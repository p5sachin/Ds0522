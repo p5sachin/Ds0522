{
  "nbformat": 4,
  "nbformat_minor": 0,
  "metadata": {
    "colab": {
      "provenance": []
    },
    "kernelspec": {
      "name": "python3",
      "display_name": "Python 3"
    },
    "language_info": {
      "name": "python"
    }
  },
  "cells": [
    {
      "cell_type": "code",
      "execution_count": 1,
      "metadata": {
        "id": "GLlLZ36yVG1r"
      },
      "outputs": [],
      "source": [
        "Datascience= \"Hello batch ds0522/815181, welcome to that project phase\""
      ]
    },
    {
      "cell_type": "code",
      "source": [
        "Datascience"
      ],
      "metadata": {
        "colab": {
          "base_uri": "https://localhost:8080/",
          "height": 35
        },
        "id": "O01UBaXyV2In",
        "outputId": "cf954436-ed18-4383-a83e-f162e79c822a"
      },
      "execution_count": 2,
      "outputs": [
        {
          "output_type": "execute_result",
          "data": {
            "text/plain": [
              "'Hello batch ds0522/815181, welcome to that project phase'"
            ],
            "application/vnd.google.colaboratory.intrinsic+json": {
              "type": "string"
            }
          },
          "metadata": {},
          "execution_count": 2
        }
      ]
    }
  ]
}